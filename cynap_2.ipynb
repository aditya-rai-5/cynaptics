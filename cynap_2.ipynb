{
  "cells": [
    {
      "cell_type": "code",
      "execution_count": null,
      "metadata": {
        "id": "0wqptCP5vySp"
      },
      "outputs": [],
      "source": [
        "import torch\n",
        "import torchvision\n",
        "import torch.nn as nn"
      ]
    },
    {
      "cell_type": "code",
      "execution_count": null,
      "metadata": {
        "id": "Am296q2evp3S"
      },
      "outputs": [],
      "source": [
        "class Generator(nn.Module):\n",
        "    def __init__(self):\n",
        "        super(Generator, self).__init__()\n",
        "        self.fc1 = nn.Sequential(\n",
        "            nn.Linear(100, 256, bias=False),\n",
        "            nn.BatchNorm1d(256),\n",
        "            nn.LeakyReLU(0.2, inplace=True)\n",
        "        )\n",
        "        self.fc2 = nn.Sequential(\n",
        "            nn.Linear(256, 512, bias=False),\n",
        "            nn.BatchNorm1d(512),\n",
        "            nn.LeakyReLU(0.2, inplace=True)\n",
        "        )\n",
        "        self.fc3 = nn.Sequential(\n",
        "            nn.Linear(512, 1024, bias=False),\n",
        "            nn.BatchNorm1d(1024),\n",
        "            nn.LeakyReLU(0.2, inplace=True)\n",
        "        )\n",
        "        self.fc4 = nn.Sequential(\n",
        "            nn.Linear(1024, 28 * 28),\n",
        "            nn.Tanh()\n",
        "        )\n",
        "        self.residual = nn.Linear(256, 512, bias=False)\n",
        "\n",
        "    def forward(self, x):\n",
        "        out = self.fc1(x)\n",
        "        residual = self.residual(out)\n",
        "        out = self.fc2(out)\n",
        "        out = self.fc3(out + residual)\n",
        "        out = self.fc4(out)\n",
        "        return out.view(-1, 1, 28, 28)\n"
      ]
    },
    {
      "cell_type": "code",
      "execution_count": null,
      "metadata": {
        "id": "bVECqu1kvuqJ"
      },
      "outputs": [],
      "source": [
        "import torch.nn.utils.spectral_norm as spectral_norm\n",
        "\n",
        "class Discriminator(nn.Module):\n",
        "    def __init__(self):\n",
        "        super(Discriminator, self).__init__()\n",
        "        self.model = nn.Sequential(\n",
        "            nn.Flatten(),\n",
        "            spectral_norm(nn.Linear(28 * 28, 1024)),\n",
        "            nn.LeakyReLU(0.2, inplace=True),\n",
        "            nn.Dropout(0.3),\n",
        "\n",
        "            spectral_norm(nn.Linear(1024, 512)),\n",
        "            nn.LeakyReLU(0.2, inplace=True),\n",
        "            nn.Dropout(0.3),\n",
        "\n",
        "            spectral_norm(nn.Linear(512, 256)),\n",
        "            nn.LeakyReLU(0.2, inplace=True),\n",
        "\n",
        "            nn.Linear(256, 1),\n",
        "            nn.Sigmoid()\n",
        "        )\n",
        "\n",
        "    def forward(self, x):\n",
        "        return self.model(x)"
      ]
    },
    {
      "cell_type": "code",
      "execution_count": null,
      "metadata": {
        "id": "rx1nVNMWwE17"
      },
      "outputs": [],
      "source": [
        "device=\"cuda\" if torch.cuda.is_available else  \"cpu\""
      ]
    },
    {
      "cell_type": "code",
      "execution_count": null,
      "metadata": {
        "id": "sVv0teoMwPsE"
      },
      "outputs": [],
      "source": [
        "loss_fn = nn.BCELoss()\n",
        "generator = Generator().to(device)\n",
        "discriminator = Discriminator().to(device)"
      ]
    },
    {
      "cell_type": "code",
      "execution_count": null,
      "metadata": {
        "id": "AzNhrQ-CwSrW"
      },
      "outputs": [],
      "source": [
        "import torch.optim as optim\n",
        "from torchvision import transforms, datasets\n",
        "\n",
        "generator_optimizer = optim.Adam(generator.parameters(), lr=1e-4)\n",
        "discriminator_optimizer = optim.Adam(discriminator.parameters(), lr=1e-4)"
      ]
    },
    {
      "cell_type": "code",
      "execution_count": null,
      "metadata": {
        "id": "__C1ya8dhSfs"
      },
      "outputs": [],
      "source": [
        "def train_step(real_images):\n",
        "    batch_size = real_images.size(0)\n",
        "    real_images = real_images.to(device)\n",
        "\n",
        "    noise = torch.randn(batch_size, 100).to(device)\n",
        "    fake_images = generator(noise)\n",
        "\n",
        "\n",
        "    real_labels = torch.ones(batch_size, 1).to(device)\n",
        "    fake_labels = torch.zeros(batch_size, 1).to(device)\n",
        "\n",
        "    #Train Discriminator\n",
        "    discriminator_optimizer.zero_grad()\n",
        "\n",
        "    real_output = discriminator(real_images)\n",
        "    fake_output = discriminator(fake_images.detach())\n",
        "\n",
        "    disc_loss_real = loss_fn(real_output, real_labels)\n",
        "    disc_loss_fake = loss_fn(fake_output, fake_labels)\n",
        "\n",
        "    disc_loss = disc_loss_real + disc_loss_fake\n",
        "    disc_loss.backward()\n",
        "    discriminator_optimizer.step()\n",
        "\n",
        "    #Train Generator\n",
        "    generator_optimizer.zero_grad()\n",
        "\n",
        "    fake_output = discriminator(fake_images)\n",
        "    gen_loss = loss_fn(fake_output, real_labels)\n",
        "\n",
        "    gen_loss.backward()\n",
        "    generator_optimizer.step()\n",
        "\n",
        "    return disc_loss.item(), gen_loss.item()"
      ]
    },
    {
      "cell_type": "code",
      "execution_count": null,
      "metadata": {
        "id": "BxLh1yCESyDn"
      },
      "outputs": [],
      "source": [
        "import os\n",
        "from torchvision.utils import save_image\n",
        "\n",
        "# Directory to save images\n",
        "output_dir = \"generated_images\"\n",
        "os.makedirs(output_dir, exist_ok=True)\n",
        "\n",
        "# Function to save generated images\n",
        "def save_generated_images(epoch, generator, device, num_images=64):\n",
        "    generator.eval()\n",
        "    with torch.no_grad():\n",
        "        noise = torch.randn(num_images, 100).to(device)  # Generate noise\n",
        "        fake_images = generator(noise)  # Generate images\n",
        "        fake_images = (fake_images + 1) / 2  # Rescale images to [0, 1]\n",
        "        save_image(fake_images, f\"{output_dir}/epoch_{epoch+1}.png\", nrow=8)\n",
        "    generator.train()  # Set generator back to training mode"
      ]
    },
    {
      "cell_type": "code",
      "execution_count": null,
      "metadata": {
        "id": "8qUJAT5ZX3m1"
      },
      "outputs": [],
      "source": [
        "def train(dataset, epochs):\n",
        "    for epoch in range(epochs):\n",
        "        for i, (real_images, _) in enumerate(dataset):\n",
        "            d_loss, g_loss = train_step(real_images)\n",
        "\n",
        "        print(f\"Epoch [{epoch+1}/{epochs}], D Loss: {d_loss:.4f}, G Loss: {g_loss:.4f}\")\n",
        "        save_generated_images(epoch, generator, device)"
      ]
    },
    {
      "cell_type": "code",
      "execution_count": null,
      "metadata": {
        "colab": {
          "base_uri": "https://localhost:8080/"
        },
        "id": "dU9pG035Sl_w",
        "outputId": "8dc6d6eb-8c3c-4cee-b237-01a8a91b77bd"
      },
      "outputs": [
        {
          "name": "stdout",
          "output_type": "stream",
          "text": [
            "Downloading http://yann.lecun.com/exdb/mnist/train-images-idx3-ubyte.gz\n",
            "Failed to download (trying next):\n",
            "HTTP Error 403: Forbidden\n",
            "\n",
            "Downloading https://ossci-datasets.s3.amazonaws.com/mnist/train-images-idx3-ubyte.gz\n",
            "Downloading https://ossci-datasets.s3.amazonaws.com/mnist/train-images-idx3-ubyte.gz to mnist_data/MNIST/raw/train-images-idx3-ubyte.gz\n"
          ]
        },
        {
          "name": "stderr",
          "output_type": "stream",
          "text": [
            "100%|██████████| 9.91M/9.91M [00:00<00:00, 16.9MB/s]\n"
          ]
        },
        {
          "name": "stdout",
          "output_type": "stream",
          "text": [
            "Extracting mnist_data/MNIST/raw/train-images-idx3-ubyte.gz to mnist_data/MNIST/raw\n",
            "\n",
            "Downloading http://yann.lecun.com/exdb/mnist/train-labels-idx1-ubyte.gz\n",
            "Failed to download (trying next):\n",
            "HTTP Error 403: Forbidden\n",
            "\n",
            "Downloading https://ossci-datasets.s3.amazonaws.com/mnist/train-labels-idx1-ubyte.gz\n",
            "Downloading https://ossci-datasets.s3.amazonaws.com/mnist/train-labels-idx1-ubyte.gz to mnist_data/MNIST/raw/train-labels-idx1-ubyte.gz\n"
          ]
        },
        {
          "name": "stderr",
          "output_type": "stream",
          "text": [
            "100%|██████████| 28.9k/28.9k [00:00<00:00, 441kB/s]\n"
          ]
        },
        {
          "name": "stdout",
          "output_type": "stream",
          "text": [
            "Extracting mnist_data/MNIST/raw/train-labels-idx1-ubyte.gz to mnist_data/MNIST/raw\n",
            "\n",
            "Downloading http://yann.lecun.com/exdb/mnist/t10k-images-idx3-ubyte.gz\n",
            "Failed to download (trying next):\n",
            "HTTP Error 403: Forbidden\n",
            "\n",
            "Downloading https://ossci-datasets.s3.amazonaws.com/mnist/t10k-images-idx3-ubyte.gz\n",
            "Downloading https://ossci-datasets.s3.amazonaws.com/mnist/t10k-images-idx3-ubyte.gz to mnist_data/MNIST/raw/t10k-images-idx3-ubyte.gz\n"
          ]
        },
        {
          "name": "stderr",
          "output_type": "stream",
          "text": [
            "100%|██████████| 1.65M/1.65M [00:00<00:00, 4.05MB/s]\n"
          ]
        },
        {
          "name": "stdout",
          "output_type": "stream",
          "text": [
            "Extracting mnist_data/MNIST/raw/t10k-images-idx3-ubyte.gz to mnist_data/MNIST/raw\n",
            "\n",
            "Downloading http://yann.lecun.com/exdb/mnist/t10k-labels-idx1-ubyte.gz\n",
            "Failed to download (trying next):\n",
            "HTTP Error 403: Forbidden\n",
            "\n",
            "Downloading https://ossci-datasets.s3.amazonaws.com/mnist/t10k-labels-idx1-ubyte.gz\n",
            "Downloading https://ossci-datasets.s3.amazonaws.com/mnist/t10k-labels-idx1-ubyte.gz to mnist_data/MNIST/raw/t10k-labels-idx1-ubyte.gz\n"
          ]
        },
        {
          "name": "stderr",
          "output_type": "stream",
          "text": [
            "100%|██████████| 4.54k/4.54k [00:00<00:00, 5.82MB/s]"
          ]
        },
        {
          "name": "stdout",
          "output_type": "stream",
          "text": [
            "Extracting mnist_data/MNIST/raw/t10k-labels-idx1-ubyte.gz to mnist_data/MNIST/raw\n",
            "\n"
          ]
        },
        {
          "name": "stderr",
          "output_type": "stream",
          "text": [
            "\n"
          ]
        }
      ],
      "source": [
        "transform = transforms.Compose([\n",
        "    transforms.ToTensor(),\n",
        "    transforms.Normalize([0.5], [0.5])\n",
        "])\n",
        "\n",
        "train_dataset = datasets.MNIST(root='mnist_data', train=True, transform=transform, download=True)\n",
        "train_loader = torch.utils.data.DataLoader(train_dataset, batch_size=128, shuffle=True)"
      ]
    },
    {
      "cell_type": "code",
      "execution_count": null,
      "metadata": {
        "colab": {
          "background_save": true,
          "base_uri": "https://localhost:8080/"
        },
        "id": "gsRnTnKWSl6n",
        "outputId": "4fc1b8d8-f935-4fe6-f14b-e8230c8b8672"
      },
      "outputs": [
        {
          "name": "stdout",
          "output_type": "stream",
          "text": [
            "Epoch [1/50], D Loss: 0.7877, G Loss: 1.2987\n",
            "Epoch [2/50], D Loss: 0.7934, G Loss: 1.3090\n",
            "Epoch [3/50], D Loss: 0.9433, G Loss: 1.3198\n",
            "Epoch [4/50], D Loss: 0.8341, G Loss: 1.2501\n",
            "Epoch [5/50], D Loss: 0.7493, G Loss: 1.3444\n",
            "Epoch [6/50], D Loss: 0.6360, G Loss: 1.5833\n",
            "Epoch [7/50], D Loss: 0.7157, G Loss: 1.4484\n",
            "Epoch [8/50], D Loss: 0.7697, G Loss: 1.5498\n",
            "Epoch [9/50], D Loss: 0.6966, G Loss: 1.5702\n",
            "Epoch [10/50], D Loss: 0.6982, G Loss: 1.7610\n",
            "Epoch [11/50], D Loss: 0.6962, G Loss: 1.8149\n",
            "Epoch [12/50], D Loss: 0.6015, G Loss: 1.7260\n",
            "Epoch [13/50], D Loss: 0.6345, G Loss: 1.8528\n",
            "Epoch [14/50], D Loss: 0.6651, G Loss: 1.9939\n",
            "Epoch [15/50], D Loss: 0.6649, G Loss: 1.7126\n",
            "Epoch [16/50], D Loss: 0.5935, G Loss: 1.9379\n",
            "Epoch [17/50], D Loss: 0.5883, G Loss: 2.0224\n",
            "Epoch [18/50], D Loss: 0.5665, G Loss: 2.0752\n",
            "Epoch [19/50], D Loss: 0.7645, G Loss: 2.0782\n",
            "Epoch [20/50], D Loss: 0.6635, G Loss: 1.8237\n",
            "Epoch [21/50], D Loss: 0.7023, G Loss: 2.0954\n",
            "Epoch [22/50], D Loss: 0.8293, G Loss: 1.7542\n",
            "Epoch [23/50], D Loss: 0.6480, G Loss: 2.0160\n",
            "Epoch [24/50], D Loss: 0.7029, G Loss: 1.7660\n",
            "Epoch [25/50], D Loss: 0.8069, G Loss: 1.7419\n",
            "Epoch [26/50], D Loss: 0.7117, G Loss: 1.9911\n",
            "Epoch [27/50], D Loss: 0.8854, G Loss: 1.5344\n",
            "Epoch [28/50], D Loss: 0.8063, G Loss: 1.9678\n",
            "Epoch [29/50], D Loss: 0.9076, G Loss: 1.9823\n",
            "Epoch [30/50], D Loss: 0.7916, G Loss: 1.7037\n",
            "Epoch [31/50], D Loss: 0.8095, G Loss: 1.7742\n",
            "Epoch [32/50], D Loss: 0.8773, G Loss: 1.2943\n",
            "Epoch [33/50], D Loss: 0.9285, G Loss: 1.7151\n",
            "Epoch [34/50], D Loss: 0.8820, G Loss: 1.5848\n",
            "Epoch [35/50], D Loss: 0.9394, G Loss: 1.7197\n",
            "Epoch [36/50], D Loss: 0.9559, G Loss: 1.3736\n",
            "Epoch [37/50], D Loss: 0.8821, G Loss: 1.4607\n",
            "Epoch [38/50], D Loss: 1.0325, G Loss: 1.3943\n",
            "Epoch [39/50], D Loss: 0.9780, G Loss: 1.4276\n",
            "Epoch [40/50], D Loss: 0.9461, G Loss: 1.4053\n",
            "Epoch [41/50], D Loss: 1.0347, G Loss: 1.0997\n",
            "Epoch [42/50], D Loss: 1.0679, G Loss: 1.2783\n",
            "Epoch [43/50], D Loss: 1.2235, G Loss: 1.0925\n",
            "Epoch [44/50], D Loss: 1.0408, G Loss: 1.2039\n",
            "Epoch [45/50], D Loss: 1.0293, G Loss: 1.2553\n",
            "Epoch [46/50], D Loss: 1.0600, G Loss: 1.0981\n",
            "Epoch [47/50], D Loss: 1.0723, G Loss: 1.1934\n",
            "Epoch [48/50], D Loss: 1.0708, G Loss: 1.1851\n",
            "Epoch [49/50], D Loss: 1.0938, G Loss: 1.1281\n",
            "Epoch [50/50], D Loss: 1.0815, G Loss: 1.1421\n"
          ]
        }
      ],
      "source": [
        "train(train_loader, epochs=50)"
      ]
    },
    {
      "cell_type": "code",
      "execution_count": null,
      "metadata": {
        "colab": {
          "background_save": true
        },
        "id": "-yJ9h04N16d_"
      },
      "outputs": [],
      "source": []
    }
  ],
  "metadata": {
    "accelerator": "GPU",
    "colab": {
      "gpuType": "T4",
      "provenance": []
    },
    "kernelspec": {
      "display_name": "Python 3",
      "name": "python3"
    },
    "language_info": {
      "name": "python"
    }
  },
  "nbformat": 4,
  "nbformat_minor": 0
}